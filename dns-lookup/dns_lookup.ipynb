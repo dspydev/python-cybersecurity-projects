{
  "nbformat": 4,
  "nbformat_minor": 0,
  "metadata": {
    "colab": {
      "provenance": [],
      "authorship_tag": "ABX9TyNn49ndXT50hz6yNth35uq/"
    },
    "kernelspec": {
      "name": "python3",
      "display_name": "Python 3"
    },
    "language_info": {
      "name": "python"
    }
  },
  "cells": [
    {
      "cell_type": "markdown",
      "source": [
        "# **Step 1: Installing dependencies**"
      ],
      "metadata": {
        "id": "OncM2Q50DoAA"
      }
    },
    {
      "cell_type": "code",
      "source": [
        "!pip install dnspython"
      ],
      "metadata": {
        "id": "UpSCuY3UgP0B",
        "outputId": "c0faf8f6-162b-4d6a-9d8a-81351c9b8bc4",
        "colab": {
          "base_uri": "https://localhost:8080/"
        }
      },
      "execution_count": 1,
      "outputs": [
        {
          "output_type": "stream",
          "name": "stdout",
          "text": [
            "Collecting dnspython\n",
            "  Downloading dnspython-2.4.2-py3-none-any.whl (300 kB)\n",
            "\u001b[2K     \u001b[90m━━━━━━━━━━━━━━━━━━━━━━━━━━━━━━━━━━━━━━━━\u001b[0m \u001b[32m300.4/300.4 kB\u001b[0m \u001b[31m3.6 MB/s\u001b[0m eta \u001b[36m0:00:00\u001b[0m\n",
            "\u001b[?25hInstalling collected packages: dnspython\n",
            "Successfully installed dnspython-2.4.2\n"
          ]
        }
      ]
    },
    {
      "cell_type": "markdown",
      "source": [
        "# **Step 2: Importing libraries**\n"
      ],
      "metadata": {
        "id": "nIfftFOiKm7F"
      }
    },
    {
      "cell_type": "code",
      "source": [
        "import dns.resolver"
      ],
      "metadata": {
        "id": "PQCjkA-8JSxQ"
      },
      "execution_count": 2,
      "outputs": []
    },
    {
      "cell_type": "markdown",
      "source": [
        "# **Step 3: Defining functions**\n",
        "\n"
      ],
      "metadata": {
        "id": "PBbLnU6jGybD"
      }
    },
    {
      "cell_type": "code",
      "execution_count": 3,
      "metadata": {
        "id": "oqaKf3vVTie7"
      },
      "outputs": [],
      "source": [
        "def dns_lookup(target_domain, record_types):\n",
        "    \"\"\"\n",
        "    Function to perform DNS lookup for a given domain and record types.\n",
        "\n",
        "    Parameters:\n",
        "    target_domain (str): The domain for which to perform the DNS lookup.\n",
        "    record_types (list): A list of DNS record types to look up.\n",
        "\n",
        "    Returns:\n",
        "    None\n",
        "    \"\"\"\n",
        "    # Create a DNS resolver\n",
        "    resolver = dns.resolver.Resolver()\n",
        "\n",
        "    for record_type in record_types:\n",
        "        # Perform DNS lookup for the specified domain and record type\n",
        "        try:\n",
        "            answers = resolver.resolve(target_domain, record_type)\n",
        "            # Print the answers\n",
        "            print(f\"{record_type} records for {target_domain}:\")\n",
        "            for rdata in answers:\n",
        "                print(f\" {rdata}\")\n",
        "        except (dns.resolver.NoAnswer, dns.resolver.NXDOMAIN, dns.resolver.Timeout):\n",
        "            continue"
      ]
    },
    {
      "cell_type": "markdown",
      "source": [
        "# **Step 4: Initializing values**"
      ],
      "metadata": {
        "id": "Rh5d8bc6K6wz"
      }
    },
    {
      "cell_type": "code",
      "source": [
        "# Set the target domain and record type\n",
        "target_domain = \"exemple.com\"\n",
        "record_types = [\"A\", \"AAAA\", \"CNAME\", \"MX\", \"NS\", \"SOA\", \"TXT\"]"
      ],
      "metadata": {
        "id": "SbaD83NYHqWr"
      },
      "execution_count": 4,
      "outputs": []
    },
    {
      "cell_type": "markdown",
      "source": [
        "# **Step 5: Executing the function**\n"
      ],
      "metadata": {
        "id": "KLCgkpQUK-bk"
      }
    },
    {
      "cell_type": "code",
      "source": [
        "dns_lookup(target_domain, record_types)"
      ],
      "metadata": {
        "id": "vmMRgfxlK_7q"
      },
      "execution_count": null,
      "outputs": []
    }
  ]
}