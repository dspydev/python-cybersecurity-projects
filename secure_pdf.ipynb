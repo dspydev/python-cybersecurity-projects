{
  "nbformat": 4,
  "nbformat_minor": 0,
  "metadata": {
    "colab": {
      "provenance": [],
      "authorship_tag": "ABX9TyOhqZAM5EtWXgk15ttmX9t3"
    },
    "kernelspec": {
      "name": "python3",
      "display_name": "Python 3"
    },
    "language_info": {
      "name": "python"
    }
  },
  "cells": [
    {
      "cell_type": "markdown",
      "source": [
        "# **Step 1: Install the necessary libraries**"
      ],
      "metadata": {
        "id": "FU65p-WyQtEN"
      }
    },
    {
      "cell_type": "code",
      "execution_count": 1,
      "metadata": {
        "colab": {
          "base_uri": "https://localhost:8080/"
        },
        "id": "3HIC02_fP0A0",
        "outputId": "77eef622-bc9a-496e-83fe-676c8a46e9e4"
      },
      "outputs": [
        {
          "output_type": "stream",
          "name": "stdout",
          "text": [
            "Collecting PyPDF2\n",
            "  Downloading pypdf2-3.0.1-py3-none-any.whl (232 kB)\n",
            "\u001b[?25l     \u001b[90m━━━━━━━━━━━━━━━━━━━━━━━━━━━━━━━━━━━━━━━━\u001b[0m \u001b[32m0.0/232.6 kB\u001b[0m \u001b[31m?\u001b[0m eta \u001b[36m-:--:--\u001b[0m\r\u001b[2K     \u001b[91m━━━━━━━━━━━━\u001b[0m\u001b[90m╺\u001b[0m\u001b[90m━━━━━━━━━━━━━━━━━━━━━━━━━━━\u001b[0m \u001b[32m71.7/232.6 kB\u001b[0m \u001b[31m1.9 MB/s\u001b[0m eta \u001b[36m0:00:01\u001b[0m\r\u001b[2K     \u001b[90m━━━━━━━━━━━━━━━━━━━━━━━━━━━━━━━━━━━━━━━━\u001b[0m \u001b[32m232.6/232.6 kB\u001b[0m \u001b[31m3.3 MB/s\u001b[0m eta \u001b[36m0:00:00\u001b[0m\n",
            "\u001b[?25hInstalling collected packages: PyPDF2\n",
            "Successfully installed PyPDF2-3.0.1\n",
            "Collecting colorama\n",
            "  Downloading colorama-0.4.6-py2.py3-none-any.whl (25 kB)\n",
            "Installing collected packages: colorama\n",
            "Successfully installed colorama-0.4.6\n"
          ]
        }
      ],
      "source": [
        "!pip install PyPDF2\n",
        "!pip install colorama"
      ]
    },
    {
      "cell_type": "markdown",
      "source": [
        "# **Step 2: Import the necessary libraries**"
      ],
      "metadata": {
        "id": "f1rOWujOQyfv"
      }
    },
    {
      "cell_type": "code",
      "source": [
        "import PyPDF2\n",
        "from getpass import getpass\n",
        "from colorama import Fore, init\n",
        "from google.colab import files\n",
        "\n",
        "# Initialize colorama for colored output\n",
        "init()"
      ],
      "metadata": {
        "id": "W9UErBsVRDMC"
      },
      "execution_count": 2,
      "outputs": []
    },
    {
      "cell_type": "markdown",
      "source": [
        "# **Step 3: Define the function to lock a PDF file with a password**"
      ],
      "metadata": {
        "id": "P7hQbsJ8TJb5"
      }
    },
    {
      "cell_type": "code",
      "source": [
        "def lock_pdf(input_file, password):\n",
        "    \"\"\"\n",
        "    Function to lock a PDF file with a password.\n",
        "\n",
        "    Parameters:\n",
        "    input_file (str): The path to the PDF file.\n",
        "    password (str): The password to encrypt the PDF.\n",
        "\n",
        "    Returns:\n",
        "    None\n",
        "    \"\"\"\n",
        "    with open(input_file, 'rb') as file:\n",
        "        pdf_reader = PyPDF2.PdfReader(file)\n",
        "        pdf_writer = PyPDF2.PdfWriter()\n",
        "\n",
        "        for page_num in range(len(pdf_reader.pages)):\n",
        "            pdf_writer.add_page(pdf_reader.pages[page_num])\n",
        "\n",
        "        pdf_writer.encrypt(password)\n",
        "\n",
        "        with open(input_file, 'wb') as output_file:\n",
        "            pdf_writer.write(output_file)"
      ],
      "metadata": {
        "id": "71jKnrQNTJ6T"
      },
      "execution_count": 3,
      "outputs": []
    },
    {
      "cell_type": "markdown",
      "source": [
        "# **Step 4: Define the main function to upload the PDF and lock it**"
      ],
      "metadata": {
        "id": "PCSndiYkTUkt"
      }
    },
    {
      "cell_type": "code",
      "source": [
        "def main():\n",
        "    \"\"\"\n",
        "    Main function to upload the PDF and lock it.\n",
        "    \"\"\"\n",
        "    uploaded = files.upload()\n",
        "    input_pdf = list(uploaded.keys())[0]\n",
        "    password = getpass(\"Enter the password to lock the PDF: \")\n",
        "\n",
        "    print(f'{Fore.GREEN}[!] Please hold on for a few seconds..')\n",
        "    lock_pdf(input_pdf, password)\n",
        "\n",
        "    print(f\"{Fore.GREEN}[+] PDF locked successfully.\")"
      ],
      "metadata": {
        "id": "s0il13TJTVNq"
      },
      "execution_count": 4,
      "outputs": []
    },
    {
      "cell_type": "markdown",
      "source": [
        "# **Step 5: Call the main function**"
      ],
      "metadata": {
        "id": "1wvj6FQ9Tvdi"
      }
    },
    {
      "cell_type": "code",
      "source": [
        "if __name__ == \"__main__\":\n",
        "    main()"
      ],
      "metadata": {
        "id": "WpOt-o_iTvNp"
      },
      "execution_count": null,
      "outputs": []
    }
  ]
}